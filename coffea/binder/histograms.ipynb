{
 "cells": [
  {
   "cell_type": "markdown",
   "metadata": {},
   "source": [
    "Coffea Histograms\n",
    "===============\n",
    "In scientific python, histograms seem to be considered as a plot style, on equal footing with, e.g. scatter plots.\n",
    "It may well be that HEP is the only place where users need to plot *pre-binned* data, and thus must use histograms as persistent objects representing reduced data.  This notebook will discuss a few ways that such objects can be manipulated.\n",
    "\n",
    "A histogram object roughly goes through three stages in its life:\n",
    "   - Filling\n",
    "   - Transformation (projection, rebinning, integrating)\n",
    "   - Plotting"
   ]
  },
  {
   "cell_type": "markdown",
   "metadata": {},
   "source": [
    "## Filling\n",
    "Let's start with filling.  We'll use a random distribution [near and dear](https://en.wikipedia.org/wiki/ARGUS_distribution) to of b and c factory physicists."
   ]
  },
  {
   "cell_type": "code",
   "execution_count": 1,
   "metadata": {},
   "outputs": [
    {
     "name": "stdout",
     "output_type": "stream",
     "text": [
      "(array([ 27,  47,  66,  89, 121, 126, 143, 146, 140,  95]), array([0.02929827, 0.12588325, 0.22246824, 0.31905323, 0.41563822,\n",
      "       0.5122232 , 0.60880819, 0.70539318, 0.80197817, 0.89856315,\n",
      "       0.99514814]))\n"
     ]
    }
   ],
   "source": [
    "import numpy as np\n",
    "from scipy.stats import argus\n",
    "\n",
    "vals = argus(chi=.5).rvs(size=1000)\n",
    "\n",
    "hist = np.histogram(vals)\n",
    "print(hist)"
   ]
  },
  {
   "cell_type": "markdown",
   "metadata": {},
   "source": [
    "So we're done, right?\n",
    "Probably not: we have more than 1000 events, and probably need to use some map-reduce paradigm to fill the histogram because we can't keep all 1 billion `vals` in memory.  So we need two things: a binning, so that all histograms that were independently created can be added, and the ability to add two histograms."
   ]
  },
  {
   "cell_type": "code",
   "execution_count": 2,
   "metadata": {},
   "outputs": [],
   "source": [
    "binning = np.linspace(0, 1, 50)\n",
    "\n",
    "def add_histos(h1, h2):\n",
    "    h1sumw, h1binning = h1\n",
    "    h2sumw, h2binning = h2\n",
    "    if h1binning.shape == h2binning.shape and np.all(h1binning==h2binning):\n",
    "        return h1sumw+h2sumw, h1binning\n",
    "    else:\n",
    "        raise ValueError(\"The histograms have inconsistent binning\")\n"
   ]
  },
  {
   "cell_type": "code",
   "execution_count": 3,
   "metadata": {},
   "outputs": [
    {
     "name": "stdout",
     "output_type": "stream",
     "text": [
      "(array([ 0,  6, 14,  6, 14, 14,  4, 24, 30, 18, 20, 22, 36, 22, 26, 44, 20,\n",
      "       38, 36, 40, 42, 60, 54, 64, 40, 48, 32, 78, 56, 52, 44, 62, 74, 60,\n",
      "       60, 72, 56, 40, 82, 60, 62, 64, 56, 54, 40, 72, 26, 38, 18]), array([0.        , 0.02040816, 0.04081633, 0.06122449, 0.08163265,\n",
      "       0.10204082, 0.12244898, 0.14285714, 0.16326531, 0.18367347,\n",
      "       0.20408163, 0.2244898 , 0.24489796, 0.26530612, 0.28571429,\n",
      "       0.30612245, 0.32653061, 0.34693878, 0.36734694, 0.3877551 ,\n",
      "       0.40816327, 0.42857143, 0.44897959, 0.46938776, 0.48979592,\n",
      "       0.51020408, 0.53061224, 0.55102041, 0.57142857, 0.59183673,\n",
      "       0.6122449 , 0.63265306, 0.65306122, 0.67346939, 0.69387755,\n",
      "       0.71428571, 0.73469388, 0.75510204, 0.7755102 , 0.79591837,\n",
      "       0.81632653, 0.83673469, 0.85714286, 0.87755102, 0.89795918,\n",
      "       0.91836735, 0.93877551, 0.95918367, 0.97959184, 1.        ]))\n"
     ]
    }
   ],
   "source": [
    "vals2 = argus(chi=.5).rvs(size=1000)\n",
    "\n",
    "hist1 = np.histogram(vals, bins=binning)\n",
    "hist2 = np.histogram(vals, bins=binning)\n",
    "\n",
    "hist = add_histos(hist1, hist2)\n",
    "print(hist)"
   ]
  },
  {
   "cell_type": "markdown",
   "metadata": {},
   "source": [
    "So now we have everything we need to make our own TH1, from a filling perspective."
   ]
  },
  {
   "cell_type": "code",
   "execution_count": 4,
   "metadata": {},
   "outputs": [],
   "source": [
    "class myTH1:\n",
    "    def __init__(self, binning):\n",
    "        self._binning = binning\n",
    "        self._sumw = np.zeros(binning.size - 1)\n",
    "    \n",
    "    def fill(self, values, weights=None):\n",
    "        sumw, _ = np.histogram(values, bins=self._binning, weights=weights)\n",
    "        self._sumw += sumw\n",
    "    \n",
    "    def __add__(self, other):\n",
    "        if not isinstance(other, myTH1):\n",
    "            raise ValueError\n",
    "        if not np.array_equal(other._binning, self._binning):\n",
    "            raise ValueError(\"The histograms have inconsistent binning\")\n",
    "        out = myTH1(self._binning)\n",
    "        out._sumw = self._sumw + other._sumw\n",
    "        return out"
   ]
  },
  {
   "cell_type": "code",
   "execution_count": 5,
   "metadata": {},
   "outputs": [
    {
     "name": "stdout",
     "output_type": "stream",
     "text": [
      "[ 1.  6.  9.  6. 15. 10.  9. 17. 32. 19. 23. 33. 33. 23. 44. 38. 30. 37.\n",
      " 41. 41. 49. 59. 51. 56. 44. 49. 42. 64. 60. 47. 51. 70. 63. 61. 60. 70.\n",
      " 62. 41. 71. 54. 55. 54. 48. 68. 37. 58. 32. 36. 21.]\n"
     ]
    }
   ],
   "source": [
    "binning = np.linspace(0, 1, 50)\n",
    "\n",
    "h1 = myTH1(binning)\n",
    "h1.fill(vals)\n",
    "\n",
    "h2 = myTH1(binning)\n",
    "h2.fill(vals2)\n",
    "\n",
    "h = h1 + h2\n",
    "print(h._sumw)"
   ]
  },
  {
   "cell_type": "markdown",
   "metadata": {},
   "source": [
    "Homework: add `sumw2` support.\n",
    "\n",
    "Of course, we might want multidimensional histograms.  There is `np.histogramdd`:"
   ]
  },
  {
   "cell_type": "code",
   "execution_count": 6,
   "metadata": {},
   "outputs": [],
   "source": [
    "xyz = np.random.multivariate_normal(mean=[1, 3, 7], cov=np.eye(3), size=10000)\n",
    "\n",
    "xbins = np.linspace(-10, 10, 20)\n",
    "ybins = np.linspace(-10, 10, 20)\n",
    "zbins = np.linspace(-10, 10, 20)\n",
    "hnumpy = np.histogramdd(xyz, bins=(xbins, ybins, zbins))"
   ]
  },
  {
   "cell_type": "markdown",
   "metadata": {},
   "source": [
    "but we are becoming challenged by book-keeping of the variables.\n",
    "The histogram utility in Coffea is designed to simplify this operation, and the eventual successor (for filling purposes) [boost-histogram](https://github.com/scikit-hep/boost-histogram#usage) has similar syntax."
   ]
  },
  {
   "cell_type": "code",
   "execution_count": 28,
   "metadata": {},
   "outputs": [
    {
     "name": "stdout",
     "output_type": "stream",
     "text": [
      "<Hist (sample,x,y,z) instance at 0x1296d2518>\n"
     ]
    }
   ],
   "source": [
    "import coffea.hist as hist\n",
    "\n",
    "hfcat = hist.Hist(\"Counts\",\n",
    "                  hist.Cat(\"sample\", \"sample name\"),\n",
    "                  hist.Bin(\"x\", \"x value\", 20, -10, 10),\n",
    "                  hist.Bin(\"y\", \"y value\", 20, -10, 10),\n",
    "                  hist.Bin(\"z\", \"z value\", 20, -10, 10),\n",
    "                 )\n",
    "\n",
    "hfcat.fill(sample=\"sample 1\", x=xyz[:,0], y=xyz[:,1], z=xyz[:,2])\n",
    "\n",
    "# suppose we have another sample of xyz values\n",
    "xyz_sample2 = np.random.multivariate_normal(mean=[1, 3, 7], cov=np.eye(3), size=10000)\n",
    "\n",
    "# additionally, lets assume entries in sample 2 have weight equal to atan(distance from origin)\n",
    "weight = np.arctan(np.sqrt(np.power(xyz_sample2, 2).sum(axis=1)))\n",
    "\n",
    "# weight is a reserved keyword in Hist\n",
    "hfcat.fill(sample=\"sample 2\", x=xyz_sample2[:,0], y=xyz_sample2[:,1], z=xyz_sample2[:,2], weight=weight)\n",
    "\n",
    "print(hfcat)"
   ]
  },
  {
   "cell_type": "code",
   "execution_count": 8,
   "metadata": {},
   "outputs": [],
   "source": [
    "# For more details, look at:\n",
    "# help(hist.Hist)\n",
    "# help(hist.Bin)\n",
    "# help(hist.Cat)"
   ]
  },
  {
   "cell_type": "markdown",
   "metadata": {},
   "source": [
    "## Transformation"
   ]
  },
  {
   "cell_type": "markdown",
   "metadata": {},
   "source": [
    "Here are a few examples of transformations on multidimensional histograms in Coffea.  For each, the docstring (`help(function)` or shift+tab in Jupyter) provides useful info."
   ]
  },
  {
   "cell_type": "code",
   "execution_count": 9,
   "metadata": {},
   "outputs": [
    {
     "data": {
      "text/plain": [
       "<Hist (sample,y,z) instance at 0x1229aa400>"
      ]
     },
     "execution_count": 9,
     "metadata": {},
     "output_type": "execute_result"
    }
   ],
   "source": [
    "# sum all x bins within nominal range (-10, 10)\n",
    "hfcat.sum(\"x\", overflow='none')"
   ]
  },
  {
   "cell_type": "markdown",
   "metadata": {},
   "source": [
    "There is some analog to fancy array slicing for histogram objects, which is supported (with reasonable consistency) in Coffea, where the slice boundaries are physical axis values, rather than bin indices.  All values outside the slice range are merged into overflow bins.\n",
    "\n",
    "For a lengthy discussion on possible slicing syntax for the future, see [boost-histogram#35](https://github.com/scikit-hep/boost-histogram/issues/35)."
   ]
  },
  {
   "cell_type": "code",
   "execution_count": 10,
   "metadata": {},
   "outputs": [
    {
     "data": {
      "text/plain": [
       "<Hist (sample,x,y,z) instance at 0x1229aa668>"
      ]
     },
     "metadata": {},
     "output_type": "display_data"
    },
    {
     "data": {
      "text/plain": [
       "[<Interval ((-inf, 4)) instance at 0x122986dd8>,\n",
       " <Interval ([4, 5)) instance at 0x122986e80>,\n",
       " <Interval ([5, 6)) instance at 0x122986eb8>,\n",
       " <Interval ([6, 7)) instance at 0x122986ef0>,\n",
       " <Interval ([7, 8)) instance at 0x122986f98>,\n",
       " <Interval ([8, 9)) instance at 0x122986fd0>,\n",
       " <Interval ([9, 10)) instance at 0x122986f28>,\n",
       " <Interval ([10, inf)) instance at 0x122986f60>]"
      ]
     },
     "metadata": {},
     "output_type": "display_data"
    }
   ],
   "source": [
    "sliced = hfcat[:,0:,4:,0:]\n",
    "display(sliced)\n",
    "display(sliced.identifiers(\"y\", overflow='all'))"
   ]
  },
  {
   "cell_type": "code",
   "execution_count": 11,
   "metadata": {},
   "outputs": [
    {
     "data": {
      "text/plain": [
       "<Hist (sample,x,z) instance at 0x122970b00>"
      ]
     },
     "execution_count": 11,
     "metadata": {},
     "output_type": "execute_result"
    }
   ],
   "source": [
    "# integrate y bins from -2 to +10\n",
    "hfcat.integrate(\"y\", slice(0, 10))"
   ]
  },
  {
   "cell_type": "code",
   "execution_count": 12,
   "metadata": {},
   "outputs": [
    {
     "data": {
      "text/plain": [
       "<Hist (sample,x,y,znew) instance at 0x128576c18>"
      ]
     },
     "execution_count": 12,
     "metadata": {},
     "output_type": "execute_result"
    }
   ],
   "source": [
    "# rebin z axis by providing a new axis definition\n",
    "hfcat.rebin(\"z\", hist.Bin(\"znew\", \"rebinned z value\", [-10, -6, 6, 10]))"
   ]
  },
  {
   "cell_type": "code",
   "execution_count": 14,
   "metadata": {},
   "outputs": [
    {
     "data": {
      "text/plain": [
       "<Hist (cat,x,y,z) instance at 0x10bb1a160>"
      ]
     },
     "execution_count": 14,
     "metadata": {},
     "output_type": "execute_result"
    }
   ],
   "source": [
    "# merge categorical axes\n",
    "mapping = {\n",
    "    'all samples': ['sample 1', 'sample 2'],\n",
    "    'just sample 1': ['sample 1'],\n",
    "}\n",
    "hfcat.group(\"sample\", hist.Cat(\"cat\", \"new category\"), mapping)"
   ]
  },
  {
   "cell_type": "code",
   "execution_count": 15,
   "metadata": {},
   "outputs": [],
   "source": [
    "# scale entire histogram by 3 (in-place)\n",
    "hfcat.scale(3.)"
   ]
  },
  {
   "cell_type": "code",
   "execution_count": 16,
   "metadata": {},
   "outputs": [],
   "source": [
    "# scale samples by different values\n",
    "scales = {\n",
    "    'sample 1': 1.2,\n",
    "    'sample 2': 0.2,\n",
    "}\n",
    "hfcat.scale(scales, axis='sample')"
   ]
  },
  {
   "cell_type": "code",
   "execution_count": 17,
   "metadata": {},
   "outputs": [
    {
     "data": {
      "text/plain": [
       "[<StringBin (sample 1) instance at 0x1285766a0>,\n",
       " <StringBin (sample 2) instance at 0x1285766d8>]"
      ]
     },
     "metadata": {},
     "output_type": "display_data"
    },
    {
     "data": {
      "text/plain": [
       "[<Interval ([-10, -9)) instance at 0x1229aa9b0>,\n",
       " <Interval ([-9, -8)) instance at 0x1229aa9e8>,\n",
       " <Interval ([-8, -7)) instance at 0x1229aaa20>,\n",
       " <Interval ([-7, -6)) instance at 0x1229aaac8>,\n",
       " <Interval ([-6, -5)) instance at 0x1229aad30>,\n",
       " <Interval ([-5, -4)) instance at 0x1229aafd0>,\n",
       " <Interval ([-4, -3)) instance at 0x1229aab00>,\n",
       " <Interval ([-3, -2)) instance at 0x10bb1a080>,\n",
       " <Interval ([-2, -1)) instance at 0x128474908>,\n",
       " <Interval ([-1, 0)) instance at 0x1284748d0>,\n",
       " <Interval ([0, 1)) instance at 0x128571860>,\n",
       " <Interval ([1, 2)) instance at 0x1285717b8>,\n",
       " <Interval ([2, 3)) instance at 0x1285719b0>,\n",
       " <Interval ([3, 4)) instance at 0x1285719e8>,\n",
       " <Interval ([4, 5)) instance at 0x128571a20>,\n",
       " <Interval ([5, 6)) instance at 0x128571a58>,\n",
       " <Interval ([6, 7)) instance at 0x128571a90>,\n",
       " <Interval ([7, 8)) instance at 0x128571ac8>,\n",
       " <Interval ([8, 9)) instance at 0x128571b00>,\n",
       " <Interval ([9, 10)) instance at 0x128571b38>]"
      ]
     },
     "metadata": {},
     "output_type": "display_data"
    }
   ],
   "source": [
    "# useful debugging tool: print bins, aka 'identifiers'\n",
    "display(hfcat.identifiers('sample'))\n",
    "display(hfcat.identifiers('x'))"
   ]
  },
  {
   "cell_type": "code",
   "execution_count": 18,
   "metadata": {},
   "outputs": [
    {
     "data": {
      "text/plain": [
       "{('sample 1',): array([    0. ,     0. ,     0. ,     0. ,     0. ,     0. ,     0. ,\n",
       "            0. ,     0. ,     0. ,     0. ,     0. ,     0. ,    50.4,\n",
       "          788.4,  4957.2, 12384. , 12009.6,  5018.4,   774. ]),\n",
       " ('sample 2',): array([   0.        ,    0.        ,    0.        ,    0.        ,\n",
       "           0.        ,    0.        ,    0.        ,    0.        ,\n",
       "           0.        ,    0.        ,    0.        ,    0.        ,\n",
       "           0.        ,    7.39350147,  171.02689052, 1157.24608438,\n",
       "        2889.55984047, 3029.19941333, 1196.07062378,  186.15644719])}"
      ]
     },
     "execution_count": 18,
     "metadata": {},
     "output_type": "execute_result"
    }
   ],
   "source": [
    "# bin contents are accessed using values\n",
    "hfcat.sum('x', 'y').values(sumw2=False)"
   ]
  },
  {
   "cell_type": "code",
   "execution_count": 19,
   "metadata": {},
   "outputs": [],
   "source": [
    "# data can be exported to ROOT via uproot, but only 1D (and soon 2D)\n",
    "import uproot\n",
    "outputfile = uproot.create(\"output.root\")\n",
    "h = hfcat.sum('x', 'y')\n",
    "for sample in h.identifiers('sample'):\n",
    "    outputfile[sample.name] = hist.export1d(h.integrate('sample', sample))\n",
    "outputfile.close()"
   ]
  },
  {
   "cell_type": "markdown",
   "metadata": {},
   "source": [
    "## Plotting\n",
    "The most integrated plotting utility in the scientific python ecosystem, by far, is [matplotlib](https://matplotlib.org/).  However, as we will see, it is not tailored to HEP needs.  To facilitate the transition, there is a developing package called [mpl-hep](https://github.com/nsmith-/mpl-hep#mpl-hep).  Meanwhile, Coffea tools provide several convenience functions to aid in plotting `Hist` objects.\n",
    "\n",
    "Let's start by looking at basic mpl histogramming."
   ]
  },
  {
   "cell_type": "code",
   "execution_count": 20,
   "metadata": {},
   "outputs": [],
   "source": [
    "# Jupyter display backends for matplotlib: nbagg, inline, etc.\n",
    "%matplotlib inline\n",
    "import matplotlib.pyplot as plt"
   ]
  },
  {
   "cell_type": "code",
   "execution_count": 21,
   "metadata": {},
   "outputs": [
    {
     "data": {
      "image/png": "[encoded data removed]",
      "text/plain": [
       "<Figure size 432x288 with 1 Axes>"
      ]
     },
     "metadata": {
      "needs_background": "light"
     },
     "output_type": "display_data"
    }
   ],
   "source": [
    "vals = argus(chi=.5).rvs(size=1000)\n",
    "\n",
    "# notice the semicolon, which prevents display of the return values\n",
    "plt.hist(vals);"
   ]
  },
  {
   "cell_type": "markdown",
   "metadata": {},
   "source": [
    "Suppose we want to plot pre-binned data, for example from our earlier `np.histogram` usage.  Here we start running into the edge of typical mpl usage.  As mentioned before, apparently HEP is the only regular user of pre-binned histograms."
   ]
  },
  {
   "cell_type": "code",
   "execution_count": 22,
   "metadata": {},
   "outputs": [
    {
     "data": {
      "image/png": "[encoded data removed]",
      "text/plain": [
       "<Figure size 432x288 with 1 Axes>"
      ]
     },
     "metadata": {
      "needs_background": "light"
     },
     "output_type": "display_data"
    }
   ],
   "source": [
    "binning = np.linspace(0, 1, 50)\n",
    "\n",
    "h1vals, h1bins = np.histogram(vals, bins=binning)\n",
    "plt.step(x=h1bins[:-1], y=h1vals, where='post');"
   ]
  },
  {
   "cell_type": "markdown",
   "metadata": {},
   "source": [
    "Coffea utilities include a plotting package to aid in displaying pre-binned histograms.  Here are a small set of example plots that can be made using this utility.  More examples can be found in [this notebook](https://github.com/CoffeaTeam/fnal-column-analysis-tools/blob/master/binder/plotting-demo.ipynb)."
   ]
  },
  {
   "cell_type": "code",
   "execution_count": 23,
   "metadata": {},
   "outputs": [
    {
     "data": {
      "image/png": "[encoded data removed]",
      "text/plain": [
       "<Figure size 432x288 with 1 Axes>"
      ]
     },
     "metadata": {
      "needs_background": "light"
     },
     "output_type": "display_data"
    }
   ],
   "source": [
    "hist.plot1d(hfcat.sum(\"x\", \"y\"), overlay='sample');"
   ]
  },
  {
   "cell_type": "code",
   "execution_count": 24,
   "metadata": {},
   "outputs": [
    {
     "data": {
      "image/png": "[encoded data removed]",
      "text/plain": [
       "<Figure size 432x288 with 1 Axes>"
      ]
     },
     "metadata": {
      "needs_background": "light"
     },
     "output_type": "display_data"
    }
   ],
   "source": [
    "hist.plot1d(hfcat.sum(\"x\", \"y\"), overlay='sample', stack=True);"
   ]
  },
  {
   "cell_type": "code",
   "execution_count": 25,
   "metadata": {},
   "outputs": [
    {
     "data": {
      "image/png": "[encoded data removed]",
      "text/plain": [
       "<Figure size 432x288 with 2 Axes>"
      ]
     },
     "metadata": {
      "needs_background": "light"
     },
     "output_type": "display_data"
    }
   ],
   "source": [
    "hist.plot2d(hfcat.sum('x', 'sample'), xaxis='y');"
   ]
  },
  {
   "cell_type": "code",
   "execution_count": 26,
   "metadata": {},
   "outputs": [
    {
     "data": {
      "image/png": "[encoded data removed]",
      "text/plain": [
       "<Figure size 864x576 with 4 Axes>"
      ]
     },
     "metadata": {
      "needs_background": "light"
     },
     "output_type": "display_data"
    }
   ],
   "source": [
    "# make coarse binned hist and look at several distributions\n",
    "hnew = (hfcat.rebin(\"y\", hist.Bin(\"ynew\", \"rebinned y value\", [0, 3, 5]))\n",
    "        .rebin(\"z\", hist.Bin(\"znew\", \"rebinned z value\", [5, 8, 10]))\n",
    "       )\n",
    "\n",
    "hist.plotgrid(hnew, row='ynew', col='znew', overlay='sample');"
   ]
  },
  {
   "cell_type": "code",
   "execution_count": 27,
   "metadata": {},
   "outputs": [
    {
     "name": "stderr",
     "output_type": "stream",
     "text": [
      "/Users/ncsmith/src/coffea/coffea/hist/plot.py:347: RuntimeWarning: invalid value encountered in true_divide\n",
      "  rsumw = sumw_num / sumw_denom\n"
     ]
    },
    {
     "data": {
      "text/plain": [
       "(-10, 10)"
      ]
     },
     "execution_count": 27,
     "metadata": {},
     "output_type": "execute_result"
    },
    {
     "data": {
      "image/png": "[encoded data removed]",
      "text/plain": [
       "<Figure size 432x288 with 1 Axes>"
      ]
     },
     "metadata": {
      "needs_background": "light"
     },
     "output_type": "display_data"
    }
   ],
   "source": [
    "numerator = hfcat.integrate('sample', 'sample 1').sum('y', 'z')\n",
    "denominator = hfcat.sum('sample', 'y', 'z')\n",
    "\n",
    "numerator.title = r'$\\epsilon$'\n",
    "fig, ax, _ = hist.plotratio(num=numerator,\n",
    "                            denom=denominator,\n",
    "                            error_opts={'color': 'k', 'marker': '.'},\n",
    "                            unc='clopper-pearson'\n",
    "                           )\n",
    "ax.set_ylim(0.6, 1.)\n",
    "ax.set_xlim(-10, 10)"
   ]
  },
  {
   "cell_type": "code",
   "execution_count": null,
   "metadata": {},
   "outputs": [],
   "source": []
  }
 ],
 "metadata": {
  "kernelspec": {
   "display_name": "Python 3",
   "language": "python",
   "name": "python3"
  },
  "language_info": {
   "codemirror_mode": {
    "name": "ipython",
    "version": 3
   },
   "file_extension": ".py",
   "mimetype": "text/x-python",
   "name": "python",
   "nbconvert_exporter": "python",
   "pygments_lexer": "ipython3",
   "version": "3.7.2"
  }
 },
 "nbformat": 4,
 "nbformat_minor": 2
}
